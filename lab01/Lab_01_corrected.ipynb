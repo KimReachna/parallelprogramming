{
 "cells": [
  {
   "cell_type": "markdown",
   "metadata": {},
   "source": [
    "# Lab1 Julia language\n",
    "## Preliminary explanations\n",
    "\n",
    "Measuring the working time is not as trivial as it seems at first glance. In the Julia language, it is further complicated by the fact that the compilation stage is hidden from the user. It occurs at the first start of the program and can take a long time, so to properly measure the running time, you should follow the following rules.\n",
    "\n",
    "* Separate the code whose performance you want to measure into a separate function\n",
    "* Always measure the operation of this function, not the entire program\n",
    "* Before measuring, call the function at least once so that the compiler compiles its code in advance."
   ]
  },
  {
   "cell_type": "markdown",
   "metadata": {},
   "source": [
    "sequential programming/procedural programming: "
   ]
  },
  {
   "cell_type": "markdown",
   "metadata": {},
   "source": [
    "## Task 1\n",
    "Any program that uses parallel computing makes sense only if it runs faster than a program that does the same thing, but sequentially. So it is extremely important to measure the execution time. Before measuring the running time of parallel programs, it is necessary to learn how to correctly measure the running time of sequential programs. In Julia, the task is facilitated by the availability of ready-made functions and macros for these purposes.\n",
    "* Write a simple routine that waits for some time, for example 1 second. To wait, use the built-in ```sleep``` function. Is it possible to pass fractional values to it? Read the help of the ```time_ns``` function and replace the ```sleep``` function with it.\n",
    "* Measure the operation time of the function 10 times by printing out the results. Use ```@time```. Is the execution time different or is it the same all the time?\n",
    "* Take time measurements for ```1E6``` launches. You won't be able to wait one second, so replace ```sleep``` with ```time_ns```. Measure the running time of the program, print it out as a dot cloud (scatter) and a histogram.\n",
    "\n",
    "To measure the time, you can use ```BenchmarkTools```, which can build histograms of the running time of functions, but you need to figure out how it works."
   ]
  },
  {
   "cell_type": "markdown",
   "metadata": {},
   "source": [
    "#### Answer: \n",
    "\n",
    "* According to the official documentation of ```sleep(seconds)```, the functions accept minimum sleep time 1 milisecond or the fractional input of 0.001."
   ]
  },
  {
   "cell_type": "code",
   "execution_count": 1,
   "metadata": {},
   "outputs": [
    {
     "data": {
      "text/plain": [
       "normal_sleep (generic function with 1 method)"
      ]
     },
     "metadata": {},
     "output_type": "display_data"
    }
   ],
   "source": [
    "function normal_sleep(seconds)\n",
    "    sleep(seconds) # second должно быть не меньше 1 миллисекунды или 0,001 секунды\n",
    "end"
   ]
  },
  {
   "cell_type": "code",
   "execution_count": 2,
   "metadata": {},
   "outputs": [],
   "source": [
    "normal_sleep(1)"
   ]
  },
  {
   "cell_type": "code",
   "execution_count": 3,
   "metadata": {},
   "outputs": [],
   "source": [
    "normal_sleep(10)\n",
    "# sleep for 10 second"
   ]
  },
  {
   "cell_type": "code",
   "execution_count": 4,
   "metadata": {},
   "outputs": [],
   "source": [
    "normal_sleep(0.001)\n",
    "# sleep for 1 milisecond"
   ]
  },
  {
   "cell_type": "code",
   "execution_count": 5,
   "metadata": {},
   "outputs": [],
   "source": [
    "normal_sleep(0.00001)\n",
    "# sleep for less than 1 milisecond"
   ]
  },
  {
   "cell_type": "code",
   "execution_count": 6,
   "metadata": {},
   "outputs": [
    {
     "name": "stdout",
     "output_type": "stream",
     "text": [
      "  1.016420 seconds (38 allocations: 1.109 KiB)\n"
     ]
    }
   ],
   "source": [
    "# we can not see on the the IDE the execution time oeach routine call, but will see with @time that normal_sleep(0.001) and normal_sleep(0.000001) will be the same. \n",
    "# first call, and first use of @time macro, so take longer, will use it again.\n",
    "@time normal_sleep(1)"
   ]
  },
  {
   "cell_type": "markdown",
   "metadata": {},
   "source": []
  },
  {
   "cell_type": "code",
   "execution_count": 7,
   "metadata": {},
   "outputs": [
    {
     "name": "stdout",
     "output_type": "stream",
     "text": [
      "  0.011405 seconds (7 allocations: 192 bytes)\n"
     ]
    }
   ],
   "source": [
    "@time normal_sleep(0.001)"
   ]
  },
  {
   "cell_type": "code",
   "execution_count": 8,
   "metadata": {},
   "outputs": [
    {
     "name": "stdout",
     "output_type": "stream",
     "text": [
      "  0.016902 seconds (7 allocations: 192 bytes)\n",
      "  0.006511 seconds (13 allocations: 432 bytes)"
     ]
    },
    {
     "name": "stdout",
     "output_type": "stream",
     "text": [
      "\n",
      "  0.002396 seconds (59 allocations: 3.867 KiB)\n",
      "  0.005945 seconds (13 allocations: 544 bytes)\n",
      "  0.018705 seconds (6 allocations: 240 bytes)\n"
     ]
    }
   ],
   "source": [
    "@time normal_sleep(0.0001)\n",
    "@time normal_sleep(0.00001)\n",
    "@time normal_sleep(0.000001)\n",
    "@time normal_sleep(0.0000001)\n",
    "@time normal_sleep(0.00000001)"
   ]
  },
  {
   "cell_type": "code",
   "execution_count": 9,
   "metadata": {},
   "outputs": [
    {
     "name": "stdout",
     "output_type": "stream",
     "text": [
      "sleeping_time= 0.1 seconds => execution time = 0.1069833\n",
      "sleeping_time= 0.01 seconds => execution time = 0.0166828\n",
      "sleeping_time= 0.001 seconds => execution time = 0.0119512\n",
      "sleeping_time= 0.0001 seconds => execution time = 0.0150089\n",
      "sleeping_time= 1.0e-5 seconds => execution time = 0.0060794\n"
     ]
    },
    {
     "name": "stdout",
     "output_type": "stream",
     "text": [
      "sleeping_time= 1.0e-6 seconds => execution time = 0.0147009\n",
      "sleeping_time= 1.0e-7 seconds => execution time = 0.0166858\n",
      "sleeping_time= 1.0e-8 seconds => execution time = 0.0030295\n",
      "sleeping_time= 1.0e-9 seconds => execution time = 0.0152441\n"
     ]
    }
   ],
   "source": [
    "# using @timed for smaller time measurement and better display\n",
    "    for i in 1:9\n",
    "        sleeping_time = 1 / (10^(i))\n",
    "        println(\"sleeping_time= $sleeping_time seconds => execution time = \", (@timed normal_sleep(sleeping_time)).time)\n",
    "    end"
   ]
  },
  {
   "cell_type": "markdown",
   "metadata": {},
   "source": [
    "```time_ns()``` return current time in nanosecond ($10^{-9}$ seconds) which give more precise timing. However this method does not block a task directly that ```sleep()``` does. To do something similar, or to replace ```sleep()``` with the use of ```time_ns()``` and accept fractional input as small as ($10^{-9}$ seconds). Let's implement a function to block_task by using using time_ns() for smaller blocking time instead of ```sleep()```."
   ]
  },
  {
   "cell_type": "code",
   "execution_count": 10,
   "metadata": {},
   "outputs": [
    {
     "data": {
      "text/plain": [
       "time_ns_sleep (generic function with 1 method)"
      ]
     },
     "metadata": {},
     "output_type": "display_data"
    }
   ],
   "source": [
    "function time_ns_sleep(second)\n",
    "    starter = time_ns()\n",
    "    while (time_ns() - starter) < (second*1e9)\n",
    "        # do nothing, just wait!\n",
    "        # elapsed time\n",
    "    end\n",
    "end"
   ]
  },
  {
   "cell_type": "code",
   "execution_count": 11,
   "metadata": {},
   "outputs": [
    {
     "name": "stdout",
     "output_type": "stream",
     "text": [
      "  1.000003 seconds\n"
     ]
    }
   ],
   "source": [
    "@time time_ns_sleep(1)"
   ]
  },
  {
   "cell_type": "code",
   "execution_count": null,
   "metadata": {},
   "outputs": [
    {
     "name": "stdout",
     "output_type": "stream",
     "text": [
      "  0.001017 seconds\n",
      "  0.000101 seconds\n",
      "  0.000011 seconds"
     ]
    },
    {
     "name": "stdout",
     "output_type": "stream",
     "text": [
      "\n",
      "  0.000003 seconds\n",
      "  0.000001 seconds\n",
      "  0.000001 seconds\n",
      "  0.000001 seconds\n"
     ]
    }
   ],
   "source": [
    "@time time_ns_sleep(0.001)\n",
    "@time time_ns_sleep(0.0001)\n",
    "@time time_ns_sleep(0.00001)\n",
    "@time time_ns_sleep(0.000001)\n",
    "@time time_ns_sleep(0.0000001)\n",
    "@time time_ns_sleep(0.00000001)\n",
    "@time time_ns_sleep(0.000000001)"
   ]
  },
  {
   "cell_type": "code",
   "execution_count": 13,
   "metadata": {},
   "outputs": [
    {
     "name": "stdout",
     "output_type": "stream",
     "text": [
      "sleeping_time= 0.1 seconds => execution time = 0.1000002\n",
      "sleeping_time= 0.01 seconds => execution time = 0.0100001\n",
      "sleeping_time= 0.001 seconds => execution time = 0.0010001\n",
      "sleeping_time= 0.0001 seconds => execution time = 0.0001001\n",
      "sleeping_time= 1.0e-5 seconds => execution time = 1.0e-5\n",
      "sleeping_time= 1.0e-6 seconds => execution time = 1.1e-6\n",
      "sleeping_time= 1.0e-7 seconds => execution time = 1.0e-7\n",
      "sleeping_time= 1.0e-8 seconds => execution time = 1.0e-7\n",
      "sleeping_time= 1.0e-9 seconds => execution time = 2.0e-7\n"
     ]
    }
   ],
   "source": [
    "# using @timed for smaller time measurement and better display\n",
    "for i in 1:9\n",
    "    sleeping_time = 1 / (10^(i))\n",
    "    println(\"sleeping_time= $sleeping_time seconds => execution time = \", (@timed time_ns_sleep(sleeping_time)).time)\n",
    "end"
   ]
  },
  {
   "cell_type": "markdown",
   "metadata": {},
   "source": [
    "Test @time of each function 10 time"
   ]
  },
  {
   "cell_type": "code",
   "execution_count": 14,
   "metadata": {},
   "outputs": [
    {
     "name": "stdout",
     "output_type": "stream",
     "text": [
      "Run 1\n",
      "  0.000101 seconds\n",
      "Run 2\n",
      "  0.000100 seconds\n",
      "Run 3\n",
      "  0.000100 seconds\n",
      "Run 4\n",
      "  0.000100 seconds\n",
      "Run 5\n",
      "  0.000101 seconds\n",
      "Run 6\n",
      "  0.000100 seconds\n",
      "Run 7\n",
      "  0.000101 seconds\n",
      "Run 8\n",
      "  0.000100 seconds\n",
      "Run 9\n",
      "  0.000101 seconds\n",
      "Run 10\n",
      "  0.000100 seconds\n"
     ]
    }
   ],
   "source": [
    "for i in 1:10\n",
    "    println(\"Run $i\")\n",
    "    @time time_ns_sleep(1e-4)\n",
    "end"
   ]
  },
  {
   "cell_type": "markdown",
   "metadata": {},
   "source": [
    "Since sleep() accept minimum value of 1 milisecond only, the execution time of ```normal_sleep()``` remain in this order of magnitude and it change. "
   ]
  },
  {
   "cell_type": "markdown",
   "metadata": {},
   "source": [
    "For this test, the sleeping time used in ```time_ns()``` related function is 1 nano second. Thus, it really has little impact on the execution time of the overal routine which are in the order of 0.01 milisecond. "
   ]
  },
  {
   "cell_type": "markdown",
   "metadata": {},
   "source": [
    "Let's @time the routine with ```time_ns()``` for 1E6 times. However, since the built-in method ```@time``` return the execution time, gabage collection , memory allocation all in a formtted string, let's us use ```@timed``` instead which give the same result but in form of tupple. "
   ]
  },
  {
   "cell_type": "code",
   "execution_count": 15,
   "metadata": {},
   "outputs": [],
   "source": [
    "measureds = []\n",
    "measurements = []\n",
    "function get_time()\n",
    "    # test a routine that sleep for 1 microsecond.\n",
    "    # 1e-6 = 0.000001 second\n",
    "    return (@timed time_ns_sleep(1e-6)).time \n",
    "end\n",
    "\n",
    "N = Integer(1e6)\n",
    "\n",
    "for i in 1:N\n",
    "    push!(measureds, get_time())\n",
    "    push!(measurements, i)\n",
    "end"
   ]
  },
  {
   "cell_type": "code",
   "execution_count": 27,
   "metadata": {},
   "outputs": [
    {
     "data": {
      "text/plain": [
       "\"d:\\\\work\\\\study\\\\2023-2024\\\\Параллельное программирование\\\\lab01\\\\scatt.png\""
      ]
     },
     "metadata": {},
     "output_type": "display_data"
    }
   ],
   "source": [
    "using Plots;\n",
    "gr(size=(1000, 600))\n",
    "scatter(measurements, measureds, label=\"measured execution time\", ms=0.4, ma=0.7, color=\"blue\")\n",
    "xlabel!(\"Order of launches\")\n",
    "ylabel!(\"Measured execution time\")\n",
    "title!(\"scatter plot of execution time over $N launches\")\n",
    "savefig(\"scatt.png\")"
   ]
  },
  {
   "cell_type": "markdown",
   "metadata": {},
   "source": [
    "code tends to stuck here if not savefigure to file. "
   ]
  },
  {
   "cell_type": "code",
   "execution_count": 24,
   "metadata": {},
   "outputs": [
    {
     "data": {
      "text/plain": [
       "\"d:\\\\work\\\\study\\\\2023-2024\\\\Параллельное программирование\\\\lab01\\\\histogram.png\""
      ]
     },
     "metadata": {},
     "output_type": "display_data"
    }
   ],
   "source": [
    "histogram(measureds, label=\"Measured execution time\", color=:blue)\n",
    "xlabel!(\"Execution time in seconds\")\n",
    "ylabel!(\"Counts\")\n",
    "title!(\"histogram of execution time over $N launches\")\n",
    "savefig(\"histogram.png\")"
   ]
  },
  {
   "cell_type": "code",
   "execution_count": 19,
   "metadata": {},
   "outputs": [
    {
     "data": {
      "text/plain": [
       "BenchmarkTools.Trial: 5 samples with 1000000 evaluations.\n",
       " Range \u001b[90m(\u001b[39m\u001b[36m\u001b[1mmin\u001b[22m\u001b[39m … \u001b[35mmax\u001b[39m\u001b[90m):  \u001b[39m\u001b[36m\u001b[1m1.009 μs\u001b[22m\u001b[39m … \u001b[35m1.029 μs\u001b[39m  \u001b[90m┊\u001b[39m GC \u001b[90m(\u001b[39mmin … max\u001b[90m): \u001b[39m0.00% … 0.00%\n",
       " Time  \u001b[90m(\u001b[39m\u001b[34m\u001b[1mmedian\u001b[22m\u001b[39m\u001b[90m):     \u001b[39m\u001b[34m\u001b[1m1.011 μs             \u001b[22m\u001b[39m\u001b[90m┊\u001b[39m GC \u001b[90m(\u001b[39mmedian\u001b[90m):    \u001b[39m0.00%\n",
       " Time  \u001b[90m(\u001b[39m\u001b[32m\u001b[1mmean\u001b[22m\u001b[39m ± \u001b[32mσ\u001b[39m\u001b[90m):   \u001b[39m\u001b[32m\u001b[1m1.015 μs\u001b[22m\u001b[39m ± \u001b[32m8.240 ns\u001b[39m  \u001b[90m┊\u001b[39m GC \u001b[90m(\u001b[39mmean ± σ\u001b[90m):  \u001b[39m0.00% ± 0.00%\n",
       "\n",
       "  \u001b[39m█\u001b[39m \u001b[39m \u001b[39m \u001b[39m \u001b[34m█\u001b[39m\u001b[39m█\u001b[39m \u001b[39m█\u001b[39m \u001b[39m \u001b[39m \u001b[39m \u001b[39m \u001b[39m \u001b[32m \u001b[39m\u001b[39m \u001b[39m \u001b[39m \u001b[39m \u001b[39m \u001b[39m \u001b[39m \u001b[39m \u001b[39m \u001b[39m \u001b[39m \u001b[39m \u001b[39m \u001b[39m \u001b[39m \u001b[39m \u001b[39m \u001b[39m \u001b[39m \u001b[39m \u001b[39m \u001b[39m \u001b[39m \u001b[39m \u001b[39m \u001b[39m \u001b[39m \u001b[39m \u001b[39m \u001b[39m \u001b[39m \u001b[39m \u001b[39m \u001b[39m \u001b[39m \u001b[39m \u001b[39m \u001b[39m \u001b[39m \u001b[39m \u001b[39m█\u001b[39m \u001b[39m \n",
       "  \u001b[39m█\u001b[39m▁\u001b[39m▁\u001b[39m▁\u001b[39m▁\u001b[34m█\u001b[39m\u001b[39m█\u001b[39m▁\u001b[39m█\u001b[39m▁\u001b[39m▁\u001b[39m▁\u001b[39m▁\u001b[39m▁\u001b[39m▁\u001b[32m▁\u001b[39m\u001b[39m▁\u001b[39m▁\u001b[39m▁\u001b[39m▁\u001b[39m▁\u001b[39m▁\u001b[39m▁\u001b[39m▁\u001b[39m▁\u001b[39m▁\u001b[39m▁\u001b[39m▁\u001b[39m▁\u001b[39m▁\u001b[39m▁\u001b[39m▁\u001b[39m▁\u001b[39m▁\u001b[39m▁\u001b[39m▁\u001b[39m▁\u001b[39m▁\u001b[39m▁\u001b[39m▁\u001b[39m▁\u001b[39m▁\u001b[39m▁\u001b[39m▁\u001b[39m▁\u001b[39m▁\u001b[39m▁\u001b[39m▁\u001b[39m▁\u001b[39m▁\u001b[39m▁\u001b[39m▁\u001b[39m▁\u001b[39m▁\u001b[39m▁\u001b[39m▁\u001b[39m█\u001b[39m \u001b[39m▁\n",
       "  1.01 μs\u001b[90m        Histogram: frequency by time\u001b[39m       1.03 μs \u001b[0m\u001b[1m<\u001b[22m\n",
       "\n",
       " Memory estimate\u001b[90m: \u001b[39m\u001b[33m0 bytes\u001b[39m, allocs estimate\u001b[90m: \u001b[39m\u001b[33m0\u001b[39m."
      ]
     },
     "metadata": {},
     "output_type": "display_data"
    }
   ],
   "source": [
    "using BenchmarkTools;\n",
    "using Plots;\n",
    "benchmark = @benchmarkable time_ns_sleep(1e-6) evals= 1e6\n",
    "run(benchmark)"
   ]
  },
  {
   "cell_type": "code",
   "execution_count": null,
   "metadata": {},
   "outputs": [],
   "source": [
    "# data cleansing\n",
    "using Statistics;\n",
    "mean_ = mean(measureds)\n",
    "for i in 1:N\n",
    "    if abs(measureds[i] - mean_) > 0.5e-5\n",
    "        measureds[i] = mean_ + 0.5e-5\n",
    "    end\n",
    "end"
   ]
  },
  {
   "cell_type": "markdown",
   "metadata": {},
   "source": [
    "## Task2\n",
    "There is no OpenMP implementation in Julia, but the concepts underlying multithreading are common in both Julia and OpenMP.\n",
    "\n",
    "* Create a program that generates threads. Print out the number of threads created. With what function is this done?\n",
    "* Julia allows you to set the number of threads at the start time. There are several ways to do this: using an environment variable and using a command line parameter. Create examples illustrating both ways. Run the program several times, each time changing the number of threads and checking that the threads are running. The ```sleep()``` function may be useful.\n",
    "* How many threads does your processor efficiently support? How can I find out this information? How can Julia automatically create the number of threads that the processor supports optimally?\n",
    "* Create a multithreaded program with four threads that accepts an array of integers as input. You need to manually distribute the work between the threads. The first thread should sum 1, 5, 9, etc. numbers; the second thread — 2, 6, 10, etc.; the third — 3, 7, 11; the fourth — 4, 8, 12, etc. The summation results are printed out indicating which thread received which result.\n",
    "* Write automatic tests for this program that check its performance for different sequences of numbers."
   ]
  },
  {
   "cell_type": "code",
   "execution_count": 20,
   "metadata": {},
   "outputs": [
    {
     "name": "stdout",
     "output_type": "stream",
     "text": [
      "Number of threads created: 1\n"
     ]
    }
   ],
   "source": [
    "using Base.Threads\n",
    "\n",
    "function create_threads()\n",
    "    println(\"Number of threads created: \", Threads.nthreads())\n",
    "end\n",
    "\n",
    "# Call the function to create threads and print the count\n",
    "create_threads()\n"
   ]
  },
  {
   "cell_type": "markdown",
   "metadata": {},
   "source": [
    "To work with multithreading in Julia and achieve the tasks you've described, you can use the Threads module. Here's how you can address each of your points:\n",
    "\n",
    "Create a program that generates threads:\n",
    "To create threads in Julia and print the number of threads created, you can use the Threads.nthreads() function. Here's an example:\n",
    "\n",
    "julia\n",
    "Copy code\n",
    "using Base.Threads\n",
    "\n",
    "function create_threads()\n",
    "    println(\"Number of threads created: \", Threads.nthreads())\n",
    "    # Create and start threads here\n",
    "end\n",
    "\n",
    "create_threads()\n",
    "Set the number of threads at the start time:\n",
    "You can set the number of threads in Julia using both environment variables and command line parameters. Here's how to do it for both cases:\n",
    "\n",
    "Using environment variables (e.g., JULIA_NUM_THREADS):\n",
    "\n",
    "julia\n",
    "Copy code\n",
    "# Set the number of threads using an environment variable\n",
    "ENV[\"JULIA_NUM_THREADS\"] = \"4\"  # Set the desired number of threads\n",
    "println(\"Number of threads (from environment variable): \", Threads.nthreads())\n",
    "Using command line parameters:\n",
    "You can pass the desired number of threads as a command line argument when running your Julia script. For example:\n",
    "\n",
    "julia\n",
    "Copy code\n",
    "# Check for command line argument\n",
    "if length(ARGS) > 0\n",
    "    n_threads = parse(Int, ARGS[1])\n",
    "    Threads.nthreads() != n_threads && Threads.nthreads(n_threads)\n",
    "end\n",
    "println(\"Number of threads (from command line parameter): \", Threads.nthreads())\n",
    "You can run the program with different values of JULIA_NUM_THREADS or command line arguments to change the number of threads.\n",
    "\n",
    "Determine the number of threads your processor supports efficiently:\n",
    "To find out the optimal number of threads your processor can efficiently support, you can use the Sys.CPU_THREADS variable. You can set the number of threads based on this value like this:\n",
    "\n",
    "julia\n",
    "Copy code\n",
    "desired_threads = Sys.CPU_THREADS\n",
    "Threads.nthreads() != desired_threads && Threads.nthreads(desired_threads)\n",
    "Julia can automatically set the number of threads to the optimal value by using the Threads.nthreads() function without specifying a number. This will generally use the number of CPU cores available on your system.\n",
    "\n",
    "Create a multithreaded program with four threads:\n",
    "Here's an example of a multithreaded program in Julia that distributes work between four threads as described:\n",
    "\n",
    "julia\n",
    "Copy code\n",
    "using Base.Threads\n",
    "\n",
    "function sum_thread(start::Int, step::Int, n::Int)\n",
    "    my_sum = 0\n",
    "    for i in start:step:n\n",
    "        my_sum += i\n",
    "    end\n",
    "    return my_sum\n",
    "end\n",
    "\n",
    "function main()\n",
    "    n = 100  # Adjust this as needed\n",
    "    results = Vector{Int}(undef, 4)\n",
    "\n",
    "    threads = [Thread() for _ in 1:4]\n",
    "\n",
    "    for (i, thread) in enumerate(threads)\n",
    "        t_start = i\n",
    "        t_step = 4\n",
    "        t = Thread(() -> results[i] = sum_thread(t_start, t_step, n))\n",
    "        push!(thread, t)\n",
    "    end\n",
    "\n",
    "    for thread in threads\n",
    "        start(thread)\n",
    "    end\n",
    "\n",
    "    for thread in threads\n",
    "        wait(thread)\n",
    "    end\n",
    "\n",
    "    for (i, result) in enumerate(results)\n",
    "        println(\"Thread $i: $result\")\n",
    "    end\n",
    "end\n",
    "\n",
    "main()\n",
    "Write automatic tests:\n",
    "You can use Julia's Test module to write tests for your multithreaded program. Here's an example of how you can test the program's performance:\n",
    "\n",
    "julia\n",
    "Copy code\n",
    "using Test\n",
    "\n",
    "@testset \"Multithreaded Sum\" begin\n",
    "    function test_multithreaded_sum(n::Int)\n",
    "        results = Vector{Int}(undef, 4)\n",
    "        expected_results = [2500, 2500, 2500, 2500]\n",
    "\n",
    "        threads = [Thread() for _ in 1:4]\n",
    "\n",
    "        for (i, thread) in enumerate(threads)\n",
    "            t_start = i\n",
    "            t_step = 4\n",
    "            t = Thread(() -> results[i] = sum_thread(t_start, t_step, n))\n",
    "            push!(thread, t)\n",
    "        end\n",
    "\n",
    "        for thread in threads\n",
    "            start(thread)\n",
    "        end\n",
    "\n",
    "        for thread in threads\n",
    "            wait(thread)\n",
    "        end\n",
    "\n",
    "        @test results == expected_results\n",
    "    end\n",
    "\n",
    "    # Test with different values of 'n'\n",
    "    test_multithreaded_sum(100)\n",
    "    test_multithreaded_sum(1000)\n",
    "    test_multithreaded_sum(10000)\n",
    "end\n",
    "This code defines a test function test_multithreaded_sum that checks if the results match the expected values for different input sizes. The @test macro is used to check the conditions. Adjust the test cases and expected results as needed."
   ]
  },
  {
   "cell_type": "markdown",
   "metadata": {},
   "source": [
    "### Analysis\n",
    "\n"
   ]
  },
  {
   "cell_type": "markdown",
   "metadata": {},
   "source": [
    "## Task3\n",
    "All built-in mathematical functions of the Julia language support vector actions with arrays, that is, if an array is passed to them as an argument, not a scalar value, then the function will be calculated from each element of the array. To do this, you need to specify a dot after the function name. For example, if we want to calculate the sine from each element of the array ```A```, we must call the function like this: ```sin.(A)```.\n",
    "Potentially, such functions can use the processor's SIMD registers, which should give a performance gain compared to calculations in a loop.\n",
    "As a third task, come up with some of your own function that manipulates a numeric array and calculates some values. Compose it from elementary mathematical functions and calculate its value from the array in two ways.\n",
    "\n",
    "* The first method is to calculate the values of functions from array elements in a loop, passing each element of the array to the function separately.\n",
    "* The second method is to pass the entire array as an argument.\n",
    "\n",
    "The second method should theoretically give a performance gain. Measure the execution time using ```@time```.\n",
    "\n",
    "Read in the official documentation about the macros ```@inbounds, @fastmath and @simd``` and apply them in your loop. Be sure to check the correctness of calculations when using ```@fastmath``` (how to do this?)\n"
   ]
  },
  {
   "cell_type": "code",
   "execution_count": null,
   "metadata": {},
   "outputs": [],
   "source": []
  },
  {
   "cell_type": "markdown",
   "metadata": {},
   "source": [
    "## Task4\n",
    "Julia has a large collection of built-in functions that allow you to write code in a functional style. The code written in this style lends itself very well to parallelization, since the functions used are clean and do not have to modify their arguments, which prevents a data race.\n",
    "\n",
    "* Learn the ```reduce``` function. Tell us in your own words how it works.\n",
    "* Create a small array of integers, such that you can check the correctness of the calculations.\n",
    "Use ```reduce``` to do the following with it.\n",
    "    - Find all positive numbers, negative numbers, even, odd, divisible without remainder by 7.\n",
    "    - Then, with the sequences resulting from such filtering, perform the following operations: sum up, find the maximum, minimum, average, sample variance.\n",
    "* Try to immediately create an array with the conditions listed above, that is, for example, one that consists of integers divisible by 7 without remainder.\n",
    "* Combine all the conditions together, that is, for example, find the sum of all the elements that are divisible by 7 without remainder, while positive, no more than some number.\n",
    "* The task can be completed in many ways. Laboratory protection will be easier if anonymous functions, the  operator  |> and functions from the module ```Base.Iterators``` are used. \n",
    "\n",
    "In addition, each task must be implemented in one line. That is, for example, creating an array, finding all positive numbers and summing them should take one line of code. Try not to use semicolons."
   ]
  },
  {
   "cell_type": "code",
   "execution_count": 5,
   "metadata": {},
   "outputs": [
    {
     "name": "stdout",
     "output_type": "stream",
     "text": [
      "Положительные числа: [1, 2, 4, 5, 7, 14, 21]\n",
      "Отрицательные числа: [-3, -6]\n",
      "Четные числа: [2, 4, -6, 14]\n",
      "Нечетные числа: [1, -3, 5, 7, 21]\n",
      "Сумма положительных чисел: 54\n",
      "Максимальное количество отрицательных чисел: -3\n",
      "Минимум четных чисел: -6\n",
      "Среднее значение нечетных чисел: 6.2\n",
      "Sample variance of numbers divisible by 7: 49.0\n"
     ]
    }
   ],
   "source": [
    "using Statistics  # Import the Statistics module for mean function\n",
    "\n",
    "arr = [1, 2, -3, 4, 5, -6, 7, 14, 21]\n",
    "\n",
    "# Find positive numbers, negative numbers, even, odd, and divisible by 7\n",
    "positives = arr |> x -> filter(y -> y > 0, x)\n",
    "negatives = arr |> x -> filter(y -> y < 0, x)\n",
    "even_numbers = arr |> x -> filter(y -> y % 2 == 0, x)\n",
    "odd_numbers = arr |> x -> filter(y -> y % 2 != 0, x)\n",
    "divisible_by_7 = arr |> x -> filter(y -> y % 7 == 0, x)\n",
    "\n",
    "# Perform operations on filtered sequences\n",
    "sum_positives = positives |> x -> reduce(+, x)\n",
    "max_negatives = negatives |> x -> reduce(max, x)\n",
    "min_even = even_numbers |> x -> reduce(min, x)\n",
    "average_odd = odd_numbers |> x -> mean(x)  # Use mean function from Statistics module\n",
    "variance_div7 = divisible_by_7 |> x -> sum((i - mean(x))^2 for i in x) / (length(x) - 1)\n",
    "\n",
    "# Print the results\n",
    "println(\"Положительные числа: $positives\")\n",
    "println(\"Отрицательные числа: $negatives\")\n",
    "println(\"Четные числа: $even_numbers\")\n",
    "println(\"Нечетные числа: $odd_numbers\")\n",
    "println(\"Сумма положительных чисел: $sum_positives\")\n",
    "println(\"Максимальное количество отрицательных чисел: $max_negatives\")\n",
    "println(\"Минимум четных чисел: $min_even\")\n",
    "println(\"Среднее значение нечетных чисел: $average_odd\")\n",
    "println(\"Sample variance of numbers divisible by 7: $variance_div7\")\n",
    "\n"
   ]
  },
  {
   "cell_type": "code",
   "execution_count": 22,
   "metadata": {},
   "outputs": [
    {
     "data": {
      "text/plain": [
       "3-element Vector{Int64}:\n",
       "  7\n",
       " 14\n",
       " 21"
      ]
     },
     "metadata": {},
     "output_type": "display_data"
    }
   ],
   "source": [
    "divisible_by_7_directly = [x for x in arr if x % 7 == 0]\n"
   ]
  },
  {
   "cell_type": "code",
   "execution_count": 23,
   "metadata": {},
   "outputs": [
    {
     "data": {
      "text/plain": [
       "42"
      ]
     },
     "metadata": {},
     "output_type": "display_data"
    }
   ],
   "source": [
    "sum_divisible_by_7_positive_limit = arr |> x -> filter(y -> y > 0 && y % 7 == 0, x) |> x -> sum(x)\n"
   ]
  }
 ],
 "metadata": {
  "kernelspec": {
   "display_name": "Julia 1.8.5",
   "language": "julia",
   "name": "julia-1.8"
  },
  "language_info": {
   "file_extension": ".jl",
   "mimetype": "application/julia",
   "name": "julia",
   "version": "1.8.5"
  },
  "orig_nbformat": 4
 },
 "nbformat": 4,
 "nbformat_minor": 2
}
