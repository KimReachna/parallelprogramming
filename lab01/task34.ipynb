{
 "cells": [
  {
   "cell_type": "markdown",
   "metadata": {},
   "source": [
    "# Задание №3\n",
    "\n",
    "Все встроенные математические функции языка Julia поддерживают векторные действия с массивами, то есть если им в качестве аргумента передать не скалярное значение, а массив, то функция будет вычислена от каждого элемента массива. Для этого после названия функции нужно указать точку. Например, если мы хотим вычислить синус от каждого элемента массива A, то должны вызвать функцию так: sin.(A). \n",
    "\n",
    "Потенциально, такие функции могут использовать SIMD регистры процессора, что должно давать выигрыш в производительности по сравнению с вычислениями в цикле. \n",
    "\n",
    "В качестве третьего задания придумайте некоторую свою функцию, которая манипулирует числовым массивом и вычисляет какое-то значения. Составьте ее из элементарных математических функций и вычислите ее значение от массива двумя способами.\n"
   ]
  },
  {
   "cell_type": "markdown",
   "metadata": {},
   "source": [
    "- Первый способ заключается в вычислении значений функций от элементов массива в цикле, передавая каждый элемент массива в функцию по отдельности.\n",
    "- Второй способ заключается в передаче всего массива в виде аргумента.\n",
    "\n",
    "Второй способ теоретически должен дать выигрыш в производительности. Замерьте время выполнения с помощью @time.\n",
    "\n",
    "Прочитайте в официальной документации о макросах @inbounds, @fastmath и @simd и примените их в своем цикле. Обязательно проверьте корректность вычислений при использовании @fastmath (как это сделать?)\n"
   ]
  },
  {
   "cell_type": "code",
   "execution_count": 1,
   "metadata": {},
   "outputs": [
    {
     "data": {
      "text/plain": [
       "square_sin (generic function with 1 method)"
      ]
     },
     "metadata": {},
     "output_type": "display_data"
    }
   ],
   "source": [
    "# Custom function to calculate the square of sine for each element\n",
    "function square_sin(arr)\n",
    "    result = similar(arr) # Create an empty array of the same size to store results\n",
    "    for i in eachindex(arr)\n",
    "        result[i] = sin(arr[i])^2\n",
    "    end\n",
    "    return result\n",
    "end\n"
   ]
  },
  {
   "cell_type": "code",
   "execution_count": 2,
   "metadata": {},
   "outputs": [
    {
     "name": "stdout",
     "output_type": "stream",
     "text": [
      "  0.105916 seconds (270.75 k allocations: 21.098 MiB, 10.10% gc time, 82.48% compilation time)\n"
     ]
    },
    {
     "data": {
      "text/plain": [
       "1000000-element Vector{Float64}:\n",
       " 0.02884200530483517\n",
       " 0.5355422450382689\n",
       " 0.5347487938807369\n",
       " 0.13485998950521652\n",
       " 0.07380951688291382\n",
       " 0.3197493695571464\n",
       " 0.6664327772758084\n",
       " 0.013546783221146486\n",
       " 0.6887345316258968\n",
       " 0.07229809731701921\n",
       " ⋮\n",
       " 0.3402069176781026\n",
       " 0.0449101829021944\n",
       " 0.42448895263084246\n",
       " 0.30030975752474964\n",
       " 0.28059818919713825\n",
       " 0.36180474977342125\n",
       " 0.3316432059840624\n",
       " 0.2539386146242875\n",
       " 0.6129988502311188"
      ]
     },
     "metadata": {},
     "output_type": "display_data"
    }
   ],
   "source": [
    "# Method 1: Calculate values in a loop\n",
    "function method1(arr)\n",
    "    result = similar(arr)\n",
    "    for i in eachindex(arr)\n",
    "        result[i] = sin(arr[i])^2\n",
    "    end\n",
    "    return result\n",
    "end\n",
    "\n",
    "# Test Method 1\n",
    "arr = rand(1_000_000) # Create a large random array for testing\n",
    "@time result1 = method1(arr)\n"
   ]
  },
  {
   "cell_type": "code",
   "execution_count": 3,
   "metadata": {},
   "outputs": [
    {
     "name": "stdout",
     "output_type": "stream",
     "text": [
      "  0.137707 seconds (270.99 k allocations: 22.162 MiB, 58.97% gc time, 33.90% compilation time)\n"
     ]
    },
    {
     "data": {
      "text/plain": [
       "1000000-element Vector{Float64}:\n",
       " 0.02884200530483517\n",
       " 0.5355422450382689\n",
       " 0.5347487938807369\n",
       " 0.13485998950521652\n",
       " 0.07380951688291382\n",
       " 0.3197493695571464\n",
       " 0.6664327772758084\n",
       " 0.013546783221146486\n",
       " 0.6887345316258968\n",
       " 0.07229809731701921\n",
       " ⋮\n",
       " 0.3402069176781026\n",
       " 0.0449101829021944\n",
       " 0.42448895263084246\n",
       " 0.30030975752474964\n",
       " 0.28059818919713825\n",
       " 0.36180474977342125\n",
       " 0.3316432059840624\n",
       " 0.2539386146242875\n",
       " 0.6129988502311188"
      ]
     },
     "metadata": {},
     "output_type": "display_data"
    }
   ],
   "source": [
    "# Method 2: Pass the entire array as an argument\n",
    "function method2(arr)\n",
    "    return sin.(arr).^2\n",
    "end\n",
    "\n",
    "# Test Method 2\n",
    "@time result2 = method2(arr)\n"
   ]
  },
  {
   "cell_type": "code",
   "execution_count": 4,
   "metadata": {},
   "outputs": [
    {
     "name": "stdout",
     "output_type": "stream",
     "text": [
      "  0.017276 seconds (17.47 k allocations: 8.565 MiB, 49.89% compilation time)\n"
     ]
    },
    {
     "data": {
      "text/plain": [
       "1000000-element Vector{Float64}:\n",
       " 0.02884200530483517\n",
       " 0.5355422450382689\n",
       " 0.5347487938807369\n",
       " 0.13485998950521652\n",
       " 0.07380951688291382\n",
       " 0.3197493695571464\n",
       " 0.6664327772758084\n",
       " 0.013546783221146486\n",
       " 0.6887345316258968\n",
       " 0.07229809731701921\n",
       " ⋮\n",
       " 0.3402069176781026\n",
       " 0.0449101829021944\n",
       " 0.42448895263084246\n",
       " 0.30030975752474964\n",
       " 0.28059818919713825\n",
       " 0.36180474977342125\n",
       " 0.3316432059840624\n",
       " 0.2539386146242875\n",
       " 0.6129988502311188"
      ]
     },
     "metadata": {},
     "output_type": "display_data"
    }
   ],
   "source": [
    "function method1_optimized(arr)\n",
    "    result = similar(arr)\n",
    "    @simd for i in eachindex(arr)\n",
    "        @inbounds result[i] = @fastmath sin(arr[i])^2\n",
    "    end\n",
    "    return result\n",
    "end\n",
    "\n",
    "# Test optimized Method 1\n",
    "@time result1_optimized = method1_optimized(arr)\n"
   ]
  },
  {
   "cell_type": "markdown",
   "metadata": {},
   "source": [
    "# Задание №4\n",
    "Julia обладает большой коллекцией встроенных функций, которые позволяют писать код в функциональном стиле. Написанный в таком стиле код очень хорошо поддается параллелизации, так как используемые функции\n",
    "являются чистыми и не должны модифицировать свои аргументы, что предотвращает гонку данных.\n",
    "\n",
    "- Изучите функцию reduce. Расскажите своими словами как она работает.\n",
    "- Создайте небольшой массив целых чисел, такой, чтобы можно было проверить корректность вычислений. С помощью reduce сделайте с ним следующие действия.\n",
    "  - Найдите все положительные числа, отрицательные числа, четные, нечетные, делящиеся без остатка на 7. Затем с получившимися в результате такой фильтрации последовательностями проделайте следующие операции: просуммируйте, найдите максимум, минимум, среднее, выборочную дисперсию.\n",
    "  - Попробуйте сразу создать массив с перечисленными выше условиями, то есть например такой, который состоит из целых чисел, делящихся без остатка на 7.\n",
    "- Объедините все условия вместе, то есть например найдите сумму всех элементов, которые делятся на 7 без остатка, при этом положительные, не больше какого-то числа.\n",
    "- Задание можно выполнить множеством способов. Защита лабораторной пройдет проще, если будут использованы анонимные функции, оператор |> и функции из модуля Base.Iter"
   ]
  },
  {
   "cell_type": "code",
   "execution_count": 1,
   "metadata": {},
   "outputs": [
    {
     "name": "stdout",
     "output_type": "stream",
     "text": [
      "Положительные числа: [1, 2, 4, 5, 7, 14, 21]\n",
      "Отрицательные числа: [-3, -6]\n",
      "Четные числа: [2, 4, -6, 14]\n",
      "Нечетные числа: [1, -3, 5, 7, 21]\n",
      "Сумма положительных чисел: 54\n",
      "Максимальное количество отрицательных чисел: -3\n",
      "Минимум четных чисел: -6\n",
      "Среднее значение нечетных чисел: 6.2\n",
      "Sample variance of numbers divisible by 7: 49.0\n"
     ]
    }
   ],
   "source": [
    "using Statistics  # Import the Statistics module for mean function\n",
    "\n",
    "arr = [1, 2, -3, 4, 5, -6, 7, 14, 21]\n",
    "\n",
    "# Find positive numbers, negative numbers, even, odd, and divisible by 7\n",
    "positives = arr |> x -> filter(y -> y > 0, x)\n",
    "negatives = arr |> x -> filter(y -> y < 0, x)\n",
    "even_numbers = arr |> x -> filter(y -> y % 2 == 0, x)\n",
    "odd_numbers = arr |> x -> filter(y -> y % 2 != 0, x)\n",
    "divisible_by_7 = arr |> x -> filter(y -> y % 7 == 0, x)\n",
    "\n",
    "# Perform operations on filtered sequences\n",
    "sum_positives = positives |> x -> reduce(+, x)\n",
    "max_negatives = negatives |> x -> reduce(max, x)\n",
    "min_even = even_numbers |> x -> reduce(min, x)\n",
    "average_odd = odd_numbers |> x -> mean(x)  # Use mean function from Statistics module\n",
    "variance_div7 = divisible_by_7 |> x -> sum((i - mean(x))^2 for i in x) / (length(x) - 1)\n",
    "\n",
    "# Print the results\n",
    "println(\"Положительные числа: $positives\")\n",
    "println(\"Отрицательные числа: $negatives\")\n",
    "println(\"Четные числа: $even_numbers\")\n",
    "println(\"Нечетные числа: $odd_numbers\")\n",
    "println(\"Сумма положительных чисел: $sum_positives\")\n",
    "println(\"Максимальное количество отрицательных чисел: $max_negatives\")\n",
    "println(\"Минимум четных чисел: $min_even\")\n",
    "println(\"Среднее значение нечетных чисел: $average_odd\")\n",
    "println(\"Sample variance of numbers divisible by 7: $variance_div7\")"
   ]
  },
  {
   "cell_type": "code",
   "execution_count": 2,
   "metadata": {},
   "outputs": [
    {
     "data": {
      "text/plain": [
       "3-element Vector{Int64}:\n",
       "  7\n",
       " 14\n",
       " 21"
      ]
     },
     "metadata": {},
     "output_type": "display_data"
    }
   ],
   "source": [
    "divisible_by_7_directly = [x for x in arr if x % 7 == 0]\n"
   ]
  },
  {
   "cell_type": "code",
   "execution_count": 3,
   "metadata": {},
   "outputs": [
    {
     "data": {
      "text/plain": [
       "42"
      ]
     },
     "metadata": {},
     "output_type": "display_data"
    }
   ],
   "source": [
    "sum_divisible_by_7_positive_limit = arr |> x -> filter(y -> y > 0 && y % 7 == 0, x) |> x -> sum(x)\n"
   ]
  }
 ],
 "metadata": {
  "kernelspec": {
   "display_name": "Julia 1.6.7",
   "language": "julia",
   "name": "julia-1.6"
  },
  "language_info": {
   "file_extension": ".jl",
   "mimetype": "application/julia",
   "name": "julia",
   "version": "1.6.7"
  },
  "orig_nbformat": 4
 },
 "nbformat": 4,
 "nbformat_minor": 2
}
